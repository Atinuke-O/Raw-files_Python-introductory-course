{
  "cells": [
    {
      "metadata": {},
      "cell_type": "markdown",
      "source": "# 1-7.1 Intro Python\n## `while()` loops & increments\n- **while `True`  or forever loops**\n- **incrementing in loops**\n- Boolean operators in while loops\n\n\n-----  \n\n><font size=\"5\" color=\"#00A0B2\"  face=\"verdana\"> <B>Student will be able to</B></font>\n- **create forever loops using `while` and `break`**\n- **use incrementing variables in a while loop**\n- control while loops using Boolean operators"
    },
    {
      "metadata": {},
      "cell_type": "markdown",
      "source": "# &nbsp;\n<font size=\"6\" color=\"#00A0B2\"  face=\"verdana\"> <B>Concepts</B></font>\n## `while True:`\n### Using the 'while True:' loop\n[![view video](https://iajupyterprodblobs.blob.core.windows.net/imagecontainer/common/play_video.png)]( http://edxinteractivepage.blob.core.windows.net/edxpages/f7cff1a7-5601-48a1-95a6-fd1fdfabd20e.html?details=[{\"src\":\"http://jupyternootbookwams.streaming.mediaservices.windows.net/f43862cd-7cdc-45a3-adb1-a07dcbd9ae16/Unit1_Section7.1-while-forever.ism/manifest\",\"type\":\"application/vnd.ms-sstr+xml\"}],[{\"src\":\"http://jupyternootbookwams.streaming.mediaservices.windows.net/f43862cd-7cdc-45a3-adb1-a07dcbd9ae16/Unit1_Section7.1-while-forever.vtt\",\"srclang\":\"en\",\"kind\":\"subtitles\",\"label\":\"english\"}])\n\n**`while True:`** is known as the **forever loop** because it ...loops forever  \n\nUsing the **`while True:`** statement results in a loop that continues to run forever   \n...or, until the loop is interrupted, such as with a **`break`** statement  \n\n## `break`\n### in a `while` loop, causes code flow to exit the loop  \na **conditional** can implement **`break`** to exit a **`while True`** loop  "
    },
    {
      "metadata": {},
      "cell_type": "markdown",
      "source": "# &nbsp;\n<font size=\"6\" color=\"#00A0B2\"  face=\"verdana\"> <B>Examples</B></font>\n## `while True` loops forever unless a `break` statement is used  "
    },
    {
      "metadata": {
        "trusted": true
      },
      "cell_type": "code",
      "source": "# Review and run code\n# this example never loops because the break has no conditions\nwhile True:\n    print('write forever, unless there is a \"break\"')\n    break",
      "execution_count": 1,
      "outputs": [
        {
          "output_type": "stream",
          "text": "write forever, unless there is a \"break\"\n",
          "name": "stdout"
        }
      ]
    },
    {
      "metadata": {
        "trusted": true
      },
      "cell_type": "code",
      "source": "# [ ] review the NUMBER GUESS code then run - Q. what cause the break statement to run?\nnumber_guess = \"0\"\nsecret_number = \"5\"\n\nwhile True:\n    number_guess = input(\"guess the number 1 to 5: \")\n    if number_guess == secret_number:\n        print(\"Yes\", number_guess,\"is correct!\\n\")\n        break\n    else:\n        print(number_guess,\"is incorrect\\n\")",
      "execution_count": 2,
      "outputs": [
        {
          "output_type": "stream",
          "name": "stdout",
          "text": "guess the number 1 to 5: 4\n4 is incorrect\n\nguess the number 1 to 5: 3\n3 is incorrect\n\nguess the number 1 to 5: 2\n2 is incorrect\n\nguess the number 1 to 5: 2\n2 is incorrect\n\nguess the number 1 to 5: 2\n2 is incorrect\n\nguess the number 1 to 5: 2\n2 is incorrect\n\nguess the number 1 to 5: 2\n2 is incorrect\n\nguess the number 1 to 5: 2\n2 is incorrect\n\nguess the number 1 to 5: 2\n2 is incorrect\n\nguess the number 1 to 5: 5\nYes 5 is correct!\n\n"
        }
      ]
    },
    {
      "metadata": {
        "trusted": true
      },
      "cell_type": "code",
      "source": "# [ ] review WHAT TO WEAR code then run testing different inputs\nwhile True:\n    weather = input(\"Enter weather (sunny, rainy, snowy, or quit): \") \n    print()\n\n    if weather.lower() == \"sunny\":\n        print(\"Wear a t-shirt and sunscreen\")\n        break\n    elif weather.lower() == \"rainy\":\n        print(\"Bring an umbrella and boots\")\n        break\n    elif weather.lower() == \"snowy\":\n        print(\"Wear a warm coat and hat\")\n        break\n    elif weather.lower().startswith(\"q\"):\n        print('\"quit\" detected, exiting')\n        break\n    else:\n        print(\"Sorry, not sure what to suggest for\", weather +\"\\n\")",
      "execution_count": 3,
      "outputs": [
        {
          "output_type": "stream",
          "name": "stdout",
          "text": "Enter weather (sunny, rainy, snowy, or quit): s\n\nSorry, not sure what to suggest for s\n\nEnter weather (sunny, rainy, snowy, or quit): v\n\nSorry, not sure what to suggest for v\n\nEnter weather (sunny, rainy, snowy, or quit): quit\n\n\"quit\" detected, exiting\n"
        }
      ]
    },
    {
      "metadata": {},
      "cell_type": "markdown",
      "source": "# &nbsp;\n<font size=\"6\" color=\"#B24C00\"  face=\"verdana\"> <B>Task 1</B></font>\n## `while True` \n### [ ] Program: Get a name forever ...or until done\n- create variable, familar_name, and assign it an empty string (**`\"\"`**)\n- use **`while True:`**\n- ask for user input for familar_name (common name friends/family use) \n- keep asking until given a non-blank/non-space alphabetical name is received (Hint: Boolean string test)\n- break loop and print a greeting using familar_name"
    },
    {
      "metadata": {
        "trusted": false
      },
      "cell_type": "code",
      "source": "# [ ] create Get Name program\n\nfamiliar_name =\"\"\n\nwhile True:\n    familiar_name=input(\"Enter a nickname used by friends and family: \")\n    if familiar_name.isalpha():\n        print(\"Hello \" + familiar_name )\n        break\n    else:\n        print(\"Use a valid name please ^-^\")\n",
      "execution_count": null,
      "outputs": []
    },
    {
      "metadata": {
        "collapsed": true
      },
      "cell_type": "markdown",
      "source": "# &nbsp;\n<font size=\"6\" color=\"#00A0B2\"  face=\"verdana\"> <B>Concept</B></font>\n## Incrementing a variable\n[![view video](https://iajupyterprodblobs.blob.core.windows.net/imagecontainer/common/play_video.png)]( http://edxinteractivepage.blob.core.windows.net/edxpages/f7cff1a7-5601-48a1-95a6-fd1fdfabd20e.html?details=[{%22src%22:%22http://jupyternootbookwams.streaming.mediaservices.windows.net/cc7925d2-0652-4659-93fb-f4cc8d09ac51/Unit1_Section7.1-increment.ism/manifest%22,%22type%22:%22application/vnd.ms-sstr+xml%22}],[{%22src%22:%22http://jupyternootbookwams.streaming.mediaservices.windows.net/cc7925d2-0652-4659-93fb-f4cc8d09ac51/Unit1_Section7.1-increment.vtt%22,%22srclang%22:%22en%22,%22kind%22:%22subtitles%22,%22label%22:%22english%22}])\n## Incrementing\n### `votes = votes + 1` &nbsp; &nbsp; or &nbsp;  `votes += 1`\n\n## Decrementing \n### `votes = votes - 1` &nbsp; &nbsp; or &nbsp; `votes -= 1`"
    },
    {
      "metadata": {},
      "cell_type": "markdown",
      "source": "# &nbsp;\n<font size=\"6\" color=\"#00A0B2\"  face=\"verdana\"> <B>Examples</B></font>\n  \n"
    },
    {
      "metadata": {
        "trusted": true
      },
      "cell_type": "code",
      "source": "# [ ] review and run example\nvotes = 3\nprint(votes)\n\nvotes = votes + 1\nprint(votes)\n\nvotes += 2\nprint(votes)",
      "execution_count": 4,
      "outputs": [
        {
          "output_type": "stream",
          "text": "3\n4\n6\n",
          "name": "stdout"
        }
      ]
    },
    {
      "metadata": {
        "trusted": true
      },
      "cell_type": "code",
      "source": "print(votes)\n\nvotes -= 1\nprint(votes)",
      "execution_count": 5,
      "outputs": [
        {
          "output_type": "stream",
          "text": "6\n5\n",
          "name": "stdout"
        }
      ]
    },
    {
      "metadata": {
        "trusted": true
      },
      "cell_type": "code",
      "source": "# [ ] review the SEAT COUNT code then run \n\nseat_count = 0\nwhile True:\n    print(\"seat count:\",seat_count)\n    seat_count = seat_count + 1\n\n    if seat_count > 4:\n        break",
      "execution_count": 6,
      "outputs": [
        {
          "output_type": "stream",
          "text": "seat count: 0\nseat count: 1\nseat count: 2\nseat count: 3\nseat count: 4\n",
          "name": "stdout"
        }
      ]
    },
    {
      "metadata": {
        "trusted": true
      },
      "cell_type": "code",
      "source": "# [ ] review the SEAT TYPE COUNT code then run entering: hard, soft, medium and exit\n\n# initialize variables\nseat_count = 0\nsoft_seats = 0\nhard_seats = 0\nnum_seats = 4\n\n# loops tallying seats using soft pads vs hard, until seats full or user \"exits\"\nwhile True:\n    seat_type = input('enter seat type of \"hard\",\"soft\" or \"exit\" (to finish): ')\n    \n    if seat_type.lower().startswith(\"e\"):\n        print()\n        break\n    elif seat_type.lower() == \"hard\":\n        hard_seats += 1\n    elif seat_type.lower() == \"soft\":\n        soft_seats += 1\n    else:\n        print(\"invalid entry: counted as hard\")\n        hard_seats += 1  \n    seat_count += 1\n    if seat_count >= num_seats:\n        print(\"\\nseats are full\")\n        break\n        \nprint(seat_count,\"Seats Total: \",hard_seats,\"hard and\",soft_seats,\"soft\" )",
      "execution_count": 7,
      "outputs": [
        {
          "output_type": "stream",
          "name": "stdout",
          "text": "enter seat type of \"hard\",\"soft\" or \"exit\" (to finish): hard\nenter seat type of \"hard\",\"soft\" or \"exit\" (to finish): soft\nenter seat type of \"hard\",\"soft\" or \"exit\" (to finish): medium\ninvalid entry: counted as hard\nenter seat type of \"hard\",\"soft\" or \"exit\" (to finish): soft\n\nseats are full\n4 Seats Total:  2 hard and 2 soft\n"
        }
      ]
    },
    {
      "metadata": {},
      "cell_type": "markdown",
      "source": "# &nbsp;\n<font size=\"6\" color=\"#B24C00\"  face=\"verdana\"> <B>Task 2</B></font>\n## incrementing in a `while()` loop\n### Program: Shirt Count\n- enter a sizes (S, M, L)\n- tally the count of each size\n- input \"exit\" when finished\n- report out the purchase of each shirt size  \n"
    },
    {
      "metadata": {
        "trusted": true
      },
      "cell_type": "code",
      "source": "# [ ] Create the Shirt Count program, run tests\n\nshirts=\"\"\nshirt_count=0\nsmall_shirt=0\nmedium_shirt=0\nlarge_shirt=0\ntotal_shirts=5\n\nwhile True:\n    \n    shirts=input(\"Enter shirt size: S, M, L: \")\n    \n    if shirts.upper() == \"S\":\n        small_shirt += 1\n        shirt_count += 1\n    elif shirts.upper() == \"M\":\n        medium_shirt += 1\n        shirt_count += 1\n    elif shirts.upper() == \"L\":\n        large_shirt += 1\n        shirt_count += 1\n    else:\n        print(\"invalid entry. try again\")\n    if shirt_count == total_shirts:\n        print (\"Out of Stock\")\n        input(\"Kindly exit: \")\n        break\n\nprint(\"The following t-shirts were purchased:\", small_shirt, \"Smalls\", medium_shirt, \"Mediums and\", large_shirt, \"Larges\")",
      "execution_count": 30,
      "outputs": [
        {
          "output_type": "stream",
          "name": "stdout",
          "text": "Enter shirt size: S, M, L: m\nEnter shirt size: S, M, L: l\nEnter shirt size: S, M, L: s\nEnter shirt size: S, M, L: \ninvalid entry. try again\nEnter shirt size: S, M, L: l\nEnter shirt size: S, M, L: s\nOut of Stock\nKindly exit: exit\nThe following t-shirts were purchased: 2 Smalls 1 Mediums and 2 Larges\n"
        }
      ]
    },
    {
      "metadata": {},
      "cell_type": "markdown",
      "source": "### CHALLENGE: Shirt Register (optional)  \nUpdate the **Shirt Count** program to calculate cost\n- use shirt cost (S = 6, M = 7, L = 8)\n- to calculate and report the subtotal cost for each size \n- to calculate and report the total cost of all shirts"
    },
    {
      "metadata": {
        "trusted": true
      },
      "cell_type": "code",
      "source": "# [ ] Create the Shirt Register program, run tests\n\nshirts=\"\"\nshirt_count=0\nsmall_shirt=0\nmedium_shirt=0\nlarge_shirt=0\ntotal_shirts=10\nsmall_shirt_cost=0\nmedium_shirt_cost=0\nlarge_shirt_cost=0\n\nwhile True:\n    \n    shirts=input(\"Enter shirt size: S, M, L: \")\n    \n    if shirts.upper() == \"S\":\n        small_shirt += 1\n        shirt_count += 1\n        small_shirt_cost += 6\n    elif shirts.upper() == \"M\":\n        medium_shirt += 1\n        shirt_count += 1\n        medium_shirt_cost += 7\n    elif shirts.upper() == \"L\":\n        large_shirt += 1\n        shirt_count += 1\n        large_shirt_cost += 8\n    else:\n        print(\"invalid entry. try again\")\n    if shirt_count == total_shirts:\n        print (\"Out of Stock\")\n        input(\"Kindly exit: \")\n        print (\"The total costs for the shirts were $\", small_shirt_cost + medium_shirt_cost + large_shirt_cost)\n        print (\"Small shirts: $\", small_shirt_cost, \"\\nMedium shirts: $\", medium_shirt_cost, \"\\nLarge shirts: $\", large_shirt_cost)\n        break\n        \n\nprint(\"The following t-shirts were purchased:\", small_shirt, \"Smalls\", medium_shirt, \"Mediums and\", large_shirt, \"Larges\")",
      "execution_count": 34,
      "outputs": [
        {
          "output_type": "stream",
          "name": "stdout",
          "text": "Enter shirt size: S, M, L: L\nEnter shirt size: S, M, L: 0\ninvalid entry. try again\nEnter shirt size: S, M, L: CV\ninvalid entry. try again\nEnter shirt size: S, M, L: s\nEnter shirt size: S, M, L: l\nEnter shirt size: S, M, L: m\nEnter shirt size: S, M, L: s\nEnter shirt size: S, M, L: m\nEnter shirt size: S, M, L: m\nEnter shirt size: S, M, L: s\nEnter shirt size: S, M, L: l\nEnter shirt size: S, M, L: l\nOut of Stock\nKindly exit: exit\nThe total costs for the shirts were $ 71\nSmall shirts: $ 18 \nMedium shirts: $ 21 \nLarge shirts: $ 32\nThe following t-shirts were purchased: 3 Smalls 3 Mediums and 4 Larges\n"
        }
      ]
    },
    {
      "metadata": {},
      "cell_type": "markdown",
      "source": "[Terms of use](http://go.microsoft.com/fwlink/?LinkID=206977) &nbsp; [Privacy & cookies](https://go.microsoft.com/fwlink/?LinkId=521839) &nbsp; © 2017 Microsoft"
    }
  ],
  "metadata": {
    "anaconda-cloud": {},
    "kernelspec": {
      "name": "python3",
      "display_name": "Python 3",
      "language": "python"
    },
    "language_info": {
      "mimetype": "text/x-python",
      "nbconvert_exporter": "python",
      "name": "python",
      "file_extension": ".py",
      "version": "3.5.4",
      "pygments_lexer": "ipython3",
      "codemirror_mode": {
        "version": 3,
        "name": "ipython"
      }
    }
  },
  "nbformat": 4,
  "nbformat_minor": 1
}